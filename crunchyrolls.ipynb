{
 "cells": [
  {
   "cell_type": "code",
   "execution_count": 1,
   "id": "6200e4f8",
   "metadata": {},
   "outputs": [],
   "source": [
    "# Importing libraries which we will use for data analysis\n",
    "\n",
    "import numpy as np\n",
    "import pandas as pd\n",
    "import matplotlib.pyplot as plt\n",
    "import seaborn as sns"
   ]
  },
  {
   "cell_type": "code",
   "execution_count": 2,
   "id": "5f4694b5",
   "metadata": {},
   "outputs": [
    {
     "data": {
      "text/html": [
       "<div>\n",
       "<style scoped>\n",
       "    .dataframe tbody tr th:only-of-type {\n",
       "        vertical-align: middle;\n",
       "    }\n",
       "\n",
       "    .dataframe tbody tr th {\n",
       "        vertical-align: top;\n",
       "    }\n",
       "\n",
       "    .dataframe thead th {\n",
       "        text-align: right;\n",
       "    }\n",
       "</style>\n",
       "<table border=\"1\" class=\"dataframe\">\n",
       "  <thead>\n",
       "    <tr style=\"text-align: right;\">\n",
       "      <th></th>\n",
       "      <th>id</th>\n",
       "      <th>title</th>\n",
       "      <th>type</th>\n",
       "      <th>description</th>\n",
       "      <th>release_year</th>\n",
       "      <th>age_certification</th>\n",
       "      <th>runtime</th>\n",
       "      <th>genres</th>\n",
       "      <th>production_countries</th>\n",
       "      <th>seasons</th>\n",
       "      <th>imdb_id</th>\n",
       "      <th>imdb_score</th>\n",
       "      <th>imdb_votes</th>\n",
       "      <th>tmdb_popularity</th>\n",
       "      <th>tmdb_score</th>\n",
       "    </tr>\n",
       "  </thead>\n",
       "  <tbody>\n",
       "    <tr>\n",
       "      <th>0</th>\n",
       "      <td>ts21930</td>\n",
       "      <td>Lupin the Third</td>\n",
       "      <td>SHOW</td>\n",
       "      <td>Arsene Lupin III is the grandson of the master...</td>\n",
       "      <td>1971</td>\n",
       "      <td>TV-14</td>\n",
       "      <td>23</td>\n",
       "      <td>['scifi', 'animation', 'action', 'comedy', 'cr...</td>\n",
       "      <td>['JP']</td>\n",
       "      <td>6.0</td>\n",
       "      <td>tt0159175</td>\n",
       "      <td>7.9</td>\n",
       "      <td>2116.0</td>\n",
       "      <td>45.829</td>\n",
       "      <td>8.0</td>\n",
       "    </tr>\n",
       "    <tr>\n",
       "      <th>1</th>\n",
       "      <td>ts25177</td>\n",
       "      <td>Mobile Suit Gundam</td>\n",
       "      <td>SHOW</td>\n",
       "      <td>Mobile Suit Gundam is a televised anime series...</td>\n",
       "      <td>1979</td>\n",
       "      <td>TV-Y7</td>\n",
       "      <td>25</td>\n",
       "      <td>['scifi', 'war', 'animation', 'action', 'drama...</td>\n",
       "      <td>['JP']</td>\n",
       "      <td>1.0</td>\n",
       "      <td>tt0159172</td>\n",
       "      <td>7.9</td>\n",
       "      <td>2281.0</td>\n",
       "      <td>41.250</td>\n",
       "      <td>8.1</td>\n",
       "    </tr>\n",
       "    <tr>\n",
       "      <th>2</th>\n",
       "      <td>ts35087</td>\n",
       "      <td>Galaxy Express 999</td>\n",
       "      <td>SHOW</td>\n",
       "      <td>Galaxy Express 999 is a manga written and draw...</td>\n",
       "      <td>1978</td>\n",
       "      <td>TV-PG</td>\n",
       "      <td>24</td>\n",
       "      <td>['scifi', 'action', 'drama', 'animation']</td>\n",
       "      <td>['JP']</td>\n",
       "      <td>1.0</td>\n",
       "      <td>tt0185066</td>\n",
       "      <td>7.8</td>\n",
       "      <td>459.0</td>\n",
       "      <td>5.064</td>\n",
       "      <td>8.3</td>\n",
       "    </tr>\n",
       "    <tr>\n",
       "      <th>3</th>\n",
       "      <td>ts82387</td>\n",
       "      <td>Lupin the 3rd</td>\n",
       "      <td>SHOW</td>\n",
       "      <td>The master thief Lupin III and his cronies con...</td>\n",
       "      <td>1977</td>\n",
       "      <td>TV-14</td>\n",
       "      <td>24</td>\n",
       "      <td>['scifi', 'animation', 'action', 'comedy', 'cr...</td>\n",
       "      <td>['JP']</td>\n",
       "      <td>4.0</td>\n",
       "      <td>tt0159192</td>\n",
       "      <td>8.0</td>\n",
       "      <td>1738.0</td>\n",
       "      <td>0.600</td>\n",
       "      <td>NaN</td>\n",
       "    </tr>\n",
       "    <tr>\n",
       "      <th>4</th>\n",
       "      <td>ts2846</td>\n",
       "      <td>Chōdenji Machine Voltes V</td>\n",
       "      <td>SHOW</td>\n",
       "      <td>Chōdenji Machine Voltes V is a Japanese anime ...</td>\n",
       "      <td>1977</td>\n",
       "      <td>TV-PG</td>\n",
       "      <td>24</td>\n",
       "      <td>['drama', 'action', 'scifi', 'animation']</td>\n",
       "      <td>['JP']</td>\n",
       "      <td>1.0</td>\n",
       "      <td>tt0159855</td>\n",
       "      <td>8.1</td>\n",
       "      <td>207.0</td>\n",
       "      <td>12.625</td>\n",
       "      <td>7.3</td>\n",
       "    </tr>\n",
       "  </tbody>\n",
       "</table>\n",
       "</div>"
      ],
      "text/plain": [
       "        id                      title  type  \\\n",
       "0  ts21930            Lupin the Third  SHOW   \n",
       "1  ts25177         Mobile Suit Gundam  SHOW   \n",
       "2  ts35087         Galaxy Express 999  SHOW   \n",
       "3  ts82387              Lupin the 3rd  SHOW   \n",
       "4   ts2846  Chōdenji Machine Voltes V  SHOW   \n",
       "\n",
       "                                         description  release_year  \\\n",
       "0  Arsene Lupin III is the grandson of the master...          1971   \n",
       "1  Mobile Suit Gundam is a televised anime series...          1979   \n",
       "2  Galaxy Express 999 is a manga written and draw...          1978   \n",
       "3  The master thief Lupin III and his cronies con...          1977   \n",
       "4  Chōdenji Machine Voltes V is a Japanese anime ...          1977   \n",
       "\n",
       "  age_certification  runtime  \\\n",
       "0             TV-14       23   \n",
       "1             TV-Y7       25   \n",
       "2             TV-PG       24   \n",
       "3             TV-14       24   \n",
       "4             TV-PG       24   \n",
       "\n",
       "                                              genres production_countries  \\\n",
       "0  ['scifi', 'animation', 'action', 'comedy', 'cr...               ['JP']   \n",
       "1  ['scifi', 'war', 'animation', 'action', 'drama...               ['JP']   \n",
       "2          ['scifi', 'action', 'drama', 'animation']               ['JP']   \n",
       "3  ['scifi', 'animation', 'action', 'comedy', 'cr...               ['JP']   \n",
       "4          ['drama', 'action', 'scifi', 'animation']               ['JP']   \n",
       "\n",
       "   seasons    imdb_id  imdb_score  imdb_votes  tmdb_popularity  tmdb_score  \n",
       "0      6.0  tt0159175         7.9      2116.0           45.829         8.0  \n",
       "1      1.0  tt0159172         7.9      2281.0           41.250         8.1  \n",
       "2      1.0  tt0185066         7.8       459.0            5.064         8.3  \n",
       "3      4.0  tt0159192         8.0      1738.0            0.600         NaN  \n",
       "4      1.0  tt0159855         8.1       207.0           12.625         7.3  "
      ]
     },
     "execution_count": 2,
     "metadata": {},
     "output_type": "execute_result"
    }
   ],
   "source": [
    "# reading the data from csv files\n",
    "\n",
    "cr_df = pd.read_csv(r'C:\\Users\\hp\\Desktop\\Data Analysis\\crunchyrolls\\crunchyrolls\\credits.csv')\n",
    "cr_df.head()\n",
    "ti_df = pd.read_csv(r'C:\\Users\\hp\\Desktop\\Data Analysis\\crunchyrolls\\crunchyrolls\\titles.csv')\n",
    "ti_df.head()"
   ]
  },
  {
   "cell_type": "code",
   "execution_count": 18,
   "id": "92812b15",
   "metadata": {},
   "outputs": [
    {
     "data": {
      "text/html": [
       "<div>\n",
       "<style scoped>\n",
       "    .dataframe tbody tr th:only-of-type {\n",
       "        vertical-align: middle;\n",
       "    }\n",
       "\n",
       "    .dataframe tbody tr th {\n",
       "        vertical-align: top;\n",
       "    }\n",
       "\n",
       "    .dataframe thead th {\n",
       "        text-align: right;\n",
       "    }\n",
       "</style>\n",
       "<table border=\"1\" class=\"dataframe\">\n",
       "  <thead>\n",
       "    <tr style=\"text-align: right;\">\n",
       "      <th></th>\n",
       "      <th>id</th>\n",
       "      <th>title</th>\n",
       "      <th>type</th>\n",
       "      <th>description</th>\n",
       "      <th>release_year</th>\n",
       "      <th>age_certification</th>\n",
       "      <th>runtime</th>\n",
       "      <th>genres</th>\n",
       "      <th>production_countries</th>\n",
       "      <th>seasons</th>\n",
       "      <th>imdb_id</th>\n",
       "      <th>imdb_score</th>\n",
       "      <th>imdb_votes</th>\n",
       "      <th>tmdb_popularity</th>\n",
       "      <th>tmdb_score</th>\n",
       "    </tr>\n",
       "  </thead>\n",
       "  <tbody>\n",
       "    <tr>\n",
       "      <th>32</th>\n",
       "      <td>ts20339</td>\n",
       "      <td>One Piece</td>\n",
       "      <td>SHOW</td>\n",
       "      <td>Years ago, the fearsome Pirate King, Gol D. Ro...</td>\n",
       "      <td>1999</td>\n",
       "      <td>TV-14</td>\n",
       "      <td>23</td>\n",
       "      <td>['action', 'comedy', 'animation', 'drama', 'fa...</td>\n",
       "      <td>['JP']</td>\n",
       "      <td>21.0</td>\n",
       "      <td>tt0388629</td>\n",
       "      <td>8.8</td>\n",
       "      <td>112586.0</td>\n",
       "      <td>105.955</td>\n",
       "      <td>8.8</td>\n",
       "    </tr>\n",
       "    <tr>\n",
       "      <th>42</th>\n",
       "      <td>ts28125</td>\n",
       "      <td>Fighting Spirit</td>\n",
       "      <td>SHOW</td>\n",
       "      <td>Makunouchi Ippo is an ordinary high school stu...</td>\n",
       "      <td>2000</td>\n",
       "      <td>TV-PG</td>\n",
       "      <td>24</td>\n",
       "      <td>['comedy', 'drama', 'action', 'animation', 'sp...</td>\n",
       "      <td>['JP']</td>\n",
       "      <td>3.0</td>\n",
       "      <td>tt0481256</td>\n",
       "      <td>8.8</td>\n",
       "      <td>6566.0</td>\n",
       "      <td>213.728</td>\n",
       "      <td>8.7</td>\n",
       "    </tr>\n",
       "    <tr>\n",
       "      <th>83</th>\n",
       "      <td>ts21482</td>\n",
       "      <td>Fullmetal Alchemist: Brotherhood</td>\n",
       "      <td>SHOW</td>\n",
       "      <td>Edward and Alphonse Elric's reckless disregard...</td>\n",
       "      <td>2009</td>\n",
       "      <td>TV-14</td>\n",
       "      <td>29</td>\n",
       "      <td>['scifi', 'action', 'animation', 'comedy', 'dr...</td>\n",
       "      <td>['JP']</td>\n",
       "      <td>1.0</td>\n",
       "      <td>tt1355642</td>\n",
       "      <td>9.1</td>\n",
       "      <td>156503.0</td>\n",
       "      <td>110.534</td>\n",
       "      <td>8.7</td>\n",
       "    </tr>\n",
       "    <tr>\n",
       "      <th>84</th>\n",
       "      <td>ts22069</td>\n",
       "      <td>Naruto Shippūden</td>\n",
       "      <td>SHOW</td>\n",
       "      <td>Naruto Shippuuden is the continuation of the o...</td>\n",
       "      <td>2007</td>\n",
       "      <td>TV-14</td>\n",
       "      <td>23</td>\n",
       "      <td>['scifi', 'action', 'animation', 'comedy', 'dr...</td>\n",
       "      <td>['JP']</td>\n",
       "      <td>24.0</td>\n",
       "      <td>tt0988824</td>\n",
       "      <td>8.7</td>\n",
       "      <td>115863.0</td>\n",
       "      <td>350.688</td>\n",
       "      <td>8.6</td>\n",
       "    </tr>\n",
       "    <tr>\n",
       "      <th>85</th>\n",
       "      <td>ts11313</td>\n",
       "      <td>DEATH NOTE</td>\n",
       "      <td>SHOW</td>\n",
       "      <td>Light Yagami is an ace student with great pros...</td>\n",
       "      <td>2006</td>\n",
       "      <td>TV-14</td>\n",
       "      <td>24</td>\n",
       "      <td>['scifi', 'animation', 'crime', 'drama', 'fant...</td>\n",
       "      <td>['JP']</td>\n",
       "      <td>1.0</td>\n",
       "      <td>tt0877057</td>\n",
       "      <td>9.0</td>\n",
       "      <td>302147.0</td>\n",
       "      <td>104.037</td>\n",
       "      <td>8.7</td>\n",
       "    </tr>\n",
       "  </tbody>\n",
       "</table>\n",
       "</div>"
      ],
      "text/plain": [
       "         id                             title  type  \\\n",
       "32  ts20339                         One Piece  SHOW   \n",
       "42  ts28125                   Fighting Spirit  SHOW   \n",
       "83  ts21482  Fullmetal Alchemist: Brotherhood  SHOW   \n",
       "84  ts22069                  Naruto Shippūden  SHOW   \n",
       "85  ts11313                        DEATH NOTE  SHOW   \n",
       "\n",
       "                                          description  release_year  \\\n",
       "32  Years ago, the fearsome Pirate King, Gol D. Ro...          1999   \n",
       "42  Makunouchi Ippo is an ordinary high school stu...          2000   \n",
       "83  Edward and Alphonse Elric's reckless disregard...          2009   \n",
       "84  Naruto Shippuuden is the continuation of the o...          2007   \n",
       "85  Light Yagami is an ace student with great pros...          2006   \n",
       "\n",
       "   age_certification  runtime  \\\n",
       "32             TV-14       23   \n",
       "42             TV-PG       24   \n",
       "83             TV-14       29   \n",
       "84             TV-14       23   \n",
       "85             TV-14       24   \n",
       "\n",
       "                                               genres production_countries  \\\n",
       "32  ['action', 'comedy', 'animation', 'drama', 'fa...               ['JP']   \n",
       "42  ['comedy', 'drama', 'action', 'animation', 'sp...               ['JP']   \n",
       "83  ['scifi', 'action', 'animation', 'comedy', 'dr...               ['JP']   \n",
       "84  ['scifi', 'action', 'animation', 'comedy', 'dr...               ['JP']   \n",
       "85  ['scifi', 'animation', 'crime', 'drama', 'fant...               ['JP']   \n",
       "\n",
       "    seasons    imdb_id  imdb_score  imdb_votes  tmdb_popularity  tmdb_score  \n",
       "32     21.0  tt0388629         8.8    112586.0          105.955         8.8  \n",
       "42      3.0  tt0481256         8.8      6566.0          213.728         8.7  \n",
       "83      1.0  tt1355642         9.1    156503.0          110.534         8.7  \n",
       "84     24.0  tt0988824         8.7    115863.0          350.688         8.6  \n",
       "85      1.0  tt0877057         9.0    302147.0          104.037         8.7  "
      ]
     },
     "execution_count": 18,
     "metadata": {},
     "output_type": "execute_result"
    }
   ],
   "source": [
    "shows_1998 = ti_df.query(\"release_year >= 1998 and imdb_score > 8 and tmdb_popularity >100\", inplace = False)\n",
    "shows_1998.head()"
   ]
  },
  {
   "cell_type": "code",
   "execution_count": 5,
   "id": "3582df5b",
   "metadata": {},
   "outputs": [
    {
     "data": {
      "text/plain": [
       "<bound method NDFrame.describe of             id                            title  type  \\\n",
       "0      ts21930                  Lupin the Third  SHOW   \n",
       "1      ts25177               Mobile Suit Gundam  SHOW   \n",
       "2      ts35087               Galaxy Express 999  SHOW   \n",
       "3      ts82387                    Lupin the 3rd  SHOW   \n",
       "4       ts2846        Chōdenji Machine Voltes V  SHOW   \n",
       "...        ...                              ...   ...   \n",
       "1076  ts252949         Farewell, My Dear Cramer  SHOW   \n",
       "1077  ts267874  I★Chu: Halfway Through the Idol  SHOW   \n",
       "1078  ts268254             ABCiee Working Diary  SHOW   \n",
       "1079  ts285889       GLOOMY The Naughty Grizzly  SHOW   \n",
       "1080  ts255190                          Idolls!  SHOW   \n",
       "\n",
       "                                            description  release_year  \\\n",
       "0     Arsene Lupin III is the grandson of the master...          1971   \n",
       "1     Mobile Suit Gundam is a televised anime series...          1979   \n",
       "2     Galaxy Express 999 is a manga written and draw...          1978   \n",
       "3     The master thief Lupin III and his cronies con...          1977   \n",
       "4     Chōdenji Machine Voltes V is a Japanese anime ...          1977   \n",
       "...                                                 ...           ...   \n",
       "1076  With no soccer accomplishments to speak of dur...          2021   \n",
       "1077  Youths aiming to become full-fledged idols enr...          2021   \n",
       "1078  ABCiee is a bit klutzy and ditsy, but he's ful...          2021   \n",
       "1079  Gloomy, an abandoned little bear, is rescued b...          2021   \n",
       "1080  Go for Hoi Hoi Hall! This is the passionate bu...          2021   \n",
       "\n",
       "     age_certification  runtime  \\\n",
       "0                TV-14       23   \n",
       "1                TV-Y7       25   \n",
       "2                TV-PG       24   \n",
       "3                TV-14       24   \n",
       "4                TV-PG       24   \n",
       "...                ...      ...   \n",
       "1076             TV-14       23   \n",
       "1077             TV-14       24   \n",
       "1078               NaN        2   \n",
       "1079               NaN        1   \n",
       "1080             TV-14        8   \n",
       "\n",
       "                                                 genres production_countries  \\\n",
       "0     ['scifi', 'animation', 'action', 'comedy', 'cr...               ['JP']   \n",
       "1     ['scifi', 'war', 'animation', 'action', 'drama...               ['JP']   \n",
       "2             ['scifi', 'action', 'drama', 'animation']               ['JP']   \n",
       "3     ['scifi', 'animation', 'action', 'comedy', 'cr...               ['JP']   \n",
       "4             ['drama', 'action', 'scifi', 'animation']               ['JP']   \n",
       "...                                                 ...                  ...   \n",
       "1076                                ['comedy', 'drama']               ['JP']   \n",
       "1077                            ['comedy', 'animation']               ['JP']   \n",
       "1078                                         ['comedy']               ['JP']   \n",
       "1079                            ['comedy', 'animation']               ['JP']   \n",
       "1080                   ['comedy', 'animation', 'music']               ['JP']   \n",
       "\n",
       "      seasons     imdb_id  imdb_score  imdb_votes  tmdb_popularity  tmdb_score  \n",
       "0         6.0   tt0159175         7.9      2116.0           45.829         8.0  \n",
       "1         1.0   tt0159172         7.9      2281.0           41.250         8.1  \n",
       "2         1.0   tt0185066         7.8       459.0            5.064         8.3  \n",
       "3         4.0   tt0159192         8.0      1738.0            0.600         NaN  \n",
       "4         1.0   tt0159855         8.1       207.0           12.625         7.3  \n",
       "...       ...         ...         ...         ...              ...         ...  \n",
       "1076      1.0         NaN         NaN         NaN           12.235         3.6  \n",
       "1077      1.0  tt13415416         6.5        24.0            6.699         7.0  \n",
       "1078      1.0  tt13985984         5.6        11.0            3.696         5.0  \n",
       "1079      1.0  tt14827932         4.0        19.0            1.878         3.0  \n",
       "1080      1.0  tt13592988         4.7        15.0            8.032         2.0  \n",
       "\n",
       "[1081 rows x 15 columns]>"
      ]
     },
     "execution_count": 5,
     "metadata": {},
     "output_type": "execute_result"
    }
   ],
   "source": [
    "ti_df.describe"
   ]
  },
  {
   "cell_type": "code",
   "execution_count": 6,
   "id": "11ccd70d",
   "metadata": {},
   "outputs": [
    {
     "data": {
      "text/plain": [
       "id                        0\n",
       "title                     0\n",
       "type                      0\n",
       "description              31\n",
       "release_year              0\n",
       "age_certification       331\n",
       "runtime                   0\n",
       "genres                    0\n",
       "production_countries      0\n",
       "seasons                   1\n",
       "imdb_id                 154\n",
       "imdb_score              174\n",
       "imdb_votes              174\n",
       "tmdb_popularity          13\n",
       "tmdb_score               75\n",
       "dtype: int64"
      ]
     },
     "execution_count": 6,
     "metadata": {},
     "output_type": "execute_result"
    }
   ],
   "source": [
    "# check for null values\n",
    "\n",
    "pd.isnull(ti_df).sum()"
   ]
  },
  {
   "cell_type": "code",
   "execution_count": 7,
   "id": "46b21206",
   "metadata": {},
   "outputs": [
    {
     "name": "stdout",
     "output_type": "stream",
     "text": [
      "<class 'pandas.core.frame.DataFrame'>\n",
      "RangeIndex: 1081 entries, 0 to 1080\n",
      "Data columns (total 15 columns):\n",
      " #   Column                Non-Null Count  Dtype  \n",
      "---  ------                --------------  -----  \n",
      " 0   id                    1081 non-null   object \n",
      " 1   title                 1081 non-null   object \n",
      " 2   type                  1081 non-null   object \n",
      " 3   description           1050 non-null   object \n",
      " 4   release_year          1081 non-null   int64  \n",
      " 5   age_certification     750 non-null    object \n",
      " 6   runtime               1081 non-null   int64  \n",
      " 7   genres                1081 non-null   object \n",
      " 8   production_countries  1081 non-null   object \n",
      " 9   seasons               1080 non-null   float64\n",
      " 10  imdb_id               927 non-null    object \n",
      " 11  imdb_score            907 non-null    float64\n",
      " 12  imdb_votes            907 non-null    float64\n",
      " 13  tmdb_popularity       1068 non-null   float64\n",
      " 14  tmdb_score            1006 non-null   float64\n",
      "dtypes: float64(5), int64(2), object(8)\n",
      "memory usage: 126.8+ KB\n"
     ]
    }
   ],
   "source": [
    "ti_df.info()"
   ]
  },
  {
   "cell_type": "code",
   "execution_count": 16,
   "id": "d0428001",
   "metadata": {},
   "outputs": [
    {
     "data": {
      "text/html": [
       "<div>\n",
       "<style scoped>\n",
       "    .dataframe tbody tr th:only-of-type {\n",
       "        vertical-align: middle;\n",
       "    }\n",
       "\n",
       "    .dataframe tbody tr th {\n",
       "        vertical-align: top;\n",
       "    }\n",
       "\n",
       "    .dataframe thead th {\n",
       "        text-align: right;\n",
       "    }\n",
       "</style>\n",
       "<table border=\"1\" class=\"dataframe\">\n",
       "  <thead>\n",
       "    <tr style=\"text-align: right;\">\n",
       "      <th></th>\n",
       "      <th>id</th>\n",
       "      <th>title</th>\n",
       "      <th>type</th>\n",
       "      <th>description</th>\n",
       "      <th>release_year</th>\n",
       "      <th>age_certification</th>\n",
       "      <th>runtime</th>\n",
       "      <th>genres</th>\n",
       "      <th>production_countries</th>\n",
       "      <th>seasons</th>\n",
       "      <th>imdb_id</th>\n",
       "      <th>imdb_score</th>\n",
       "      <th>imdb_votes</th>\n",
       "      <th>tmdb_popularity</th>\n",
       "      <th>tmdb_score</th>\n",
       "    </tr>\n",
       "  </thead>\n",
       "  <tbody>\n",
       "    <tr>\n",
       "      <th>965</th>\n",
       "      <td>ts283022</td>\n",
       "      <td>SPY x FAMILY</td>\n",
       "      <td>SHOW</td>\n",
       "      <td>Master spy Twilight is the best at what he doe...</td>\n",
       "      <td>2022</td>\n",
       "      <td>TV-14</td>\n",
       "      <td>24</td>\n",
       "      <td>['action', 'comedy', 'drama', 'thriller', 'ani...</td>\n",
       "      <td>['JP']</td>\n",
       "      <td>1.0</td>\n",
       "      <td>tt13706018</td>\n",
       "      <td>9.0</td>\n",
       "      <td>5847.0</td>\n",
       "      <td>1199.380</td>\n",
       "      <td>8.8</td>\n",
       "    </tr>\n",
       "    <tr>\n",
       "      <th>432</th>\n",
       "      <td>ts35573</td>\n",
       "      <td>Dragon Ball Super</td>\n",
       "      <td>SHOW</td>\n",
       "      <td>With Majin Boo defeated half-a-year prior, pea...</td>\n",
       "      <td>2015</td>\n",
       "      <td>TV-14</td>\n",
       "      <td>23</td>\n",
       "      <td>['action', 'scifi', 'comedy', 'animation', 'th...</td>\n",
       "      <td>['JP']</td>\n",
       "      <td>5.0</td>\n",
       "      <td>tt4644488</td>\n",
       "      <td>8.4</td>\n",
       "      <td>28567.0</td>\n",
       "      <td>423.650</td>\n",
       "      <td>8.2</td>\n",
       "    </tr>\n",
       "    <tr>\n",
       "      <th>12</th>\n",
       "      <td>ts20740</td>\n",
       "      <td>Dragon Ball Z</td>\n",
       "      <td>SHOW</td>\n",
       "      <td>Dragon Ball Z is a Japanese animated televisio...</td>\n",
       "      <td>1989</td>\n",
       "      <td>TV-PG</td>\n",
       "      <td>24</td>\n",
       "      <td>['scifi', 'action', 'animation', 'comedy', 'fa...</td>\n",
       "      <td>['JP']</td>\n",
       "      <td>16.0</td>\n",
       "      <td>tt0121220</td>\n",
       "      <td>8.8</td>\n",
       "      <td>125554.0</td>\n",
       "      <td>389.990</td>\n",
       "      <td>8.2</td>\n",
       "    </tr>\n",
       "    <tr>\n",
       "      <th>86</th>\n",
       "      <td>ts20305</td>\n",
       "      <td>Naruto</td>\n",
       "      <td>SHOW</td>\n",
       "      <td>In another world, ninja are the ultimate power...</td>\n",
       "      <td>2002</td>\n",
       "      <td>TV-PG</td>\n",
       "      <td>23</td>\n",
       "      <td>['scifi', 'comedy', 'animation', 'action', 'fa...</td>\n",
       "      <td>['JP']</td>\n",
       "      <td>6.0</td>\n",
       "      <td>tt0409591</td>\n",
       "      <td>8.4</td>\n",
       "      <td>93980.0</td>\n",
       "      <td>362.730</td>\n",
       "      <td>8.4</td>\n",
       "    </tr>\n",
       "    <tr>\n",
       "      <th>84</th>\n",
       "      <td>ts22069</td>\n",
       "      <td>Naruto Shippūden</td>\n",
       "      <td>SHOW</td>\n",
       "      <td>Naruto Shippuuden is the continuation of the o...</td>\n",
       "      <td>2007</td>\n",
       "      <td>TV-14</td>\n",
       "      <td>23</td>\n",
       "      <td>['scifi', 'action', 'animation', 'comedy', 'dr...</td>\n",
       "      <td>['JP']</td>\n",
       "      <td>24.0</td>\n",
       "      <td>tt0988824</td>\n",
       "      <td>8.7</td>\n",
       "      <td>115863.0</td>\n",
       "      <td>350.688</td>\n",
       "      <td>8.6</td>\n",
       "    </tr>\n",
       "    <tr>\n",
       "      <th>816</th>\n",
       "      <td>ts222852</td>\n",
       "      <td>Jujutsu Kaisen</td>\n",
       "      <td>SHOW</td>\n",
       "      <td>Yuji Itadori is a boy with tremendous physical...</td>\n",
       "      <td>2020</td>\n",
       "      <td>TV-MA</td>\n",
       "      <td>24</td>\n",
       "      <td>['scifi', 'action', 'fantasy', 'thriller', 'an...</td>\n",
       "      <td>['JP']</td>\n",
       "      <td>2.0</td>\n",
       "      <td>tt12343534</td>\n",
       "      <td>8.6</td>\n",
       "      <td>48949.0</td>\n",
       "      <td>303.199</td>\n",
       "      <td>8.5</td>\n",
       "    </tr>\n",
       "    <tr>\n",
       "      <th>42</th>\n",
       "      <td>ts28125</td>\n",
       "      <td>Fighting Spirit</td>\n",
       "      <td>SHOW</td>\n",
       "      <td>Makunouchi Ippo is an ordinary high school stu...</td>\n",
       "      <td>2000</td>\n",
       "      <td>TV-PG</td>\n",
       "      <td>24</td>\n",
       "      <td>['comedy', 'drama', 'action', 'animation', 'sp...</td>\n",
       "      <td>['JP']</td>\n",
       "      <td>3.0</td>\n",
       "      <td>tt0481256</td>\n",
       "      <td>8.8</td>\n",
       "      <td>6566.0</td>\n",
       "      <td>213.728</td>\n",
       "      <td>8.7</td>\n",
       "    </tr>\n",
       "    <tr>\n",
       "      <th>87</th>\n",
       "      <td>ts15151</td>\n",
       "      <td>Bleach</td>\n",
       "      <td>SHOW</td>\n",
       "      <td>For as long as he can remember, Ichigo Kurosak...</td>\n",
       "      <td>2004</td>\n",
       "      <td>TV-14</td>\n",
       "      <td>24</td>\n",
       "      <td>['scifi', 'action', 'animation', 'fantasy', 't...</td>\n",
       "      <td>['JP']</td>\n",
       "      <td>16.0</td>\n",
       "      <td>tt0434665</td>\n",
       "      <td>8.2</td>\n",
       "      <td>51742.0</td>\n",
       "      <td>211.796</td>\n",
       "      <td>8.4</td>\n",
       "    </tr>\n",
       "    <tr>\n",
       "      <th>974</th>\n",
       "      <td>ts283078</td>\n",
       "      <td>The Greatest Demon Lord Is Reborn as a Typical...</td>\n",
       "      <td>SHOW</td>\n",
       "      <td>In his past life, he was known as Demon Lord V...</td>\n",
       "      <td>2022</td>\n",
       "      <td>TV-14</td>\n",
       "      <td>24</td>\n",
       "      <td>['scifi', 'animation', 'action', 'fantasy', 'r...</td>\n",
       "      <td>['JP']</td>\n",
       "      <td>1.0</td>\n",
       "      <td>tt15447890</td>\n",
       "      <td>7.0</td>\n",
       "      <td>161.0</td>\n",
       "      <td>178.024</td>\n",
       "      <td>6.7</td>\n",
       "    </tr>\n",
       "    <tr>\n",
       "      <th>1031</th>\n",
       "      <td>ts317269</td>\n",
       "      <td>In the Heart of Kunoichi Tsubaki</td>\n",
       "      <td>SHOW</td>\n",
       "      <td>The isolationist Akane Clan, composed of an al...</td>\n",
       "      <td>2022</td>\n",
       "      <td>TV-14</td>\n",
       "      <td>24</td>\n",
       "      <td>['animation']</td>\n",
       "      <td>['JP']</td>\n",
       "      <td>1.0</td>\n",
       "      <td>NaN</td>\n",
       "      <td>NaN</td>\n",
       "      <td>NaN</td>\n",
       "      <td>171.853</td>\n",
       "      <td>4.3</td>\n",
       "    </tr>\n",
       "  </tbody>\n",
       "</table>\n",
       "</div>"
      ],
      "text/plain": [
       "            id                                              title  type  \\\n",
       "965   ts283022                                       SPY x FAMILY  SHOW   \n",
       "432    ts35573                                  Dragon Ball Super  SHOW   \n",
       "12     ts20740                                      Dragon Ball Z  SHOW   \n",
       "86     ts20305                                             Naruto  SHOW   \n",
       "84     ts22069                                   Naruto Shippūden  SHOW   \n",
       "816   ts222852                                     Jujutsu Kaisen  SHOW   \n",
       "42     ts28125                                    Fighting Spirit  SHOW   \n",
       "87     ts15151                                             Bleach  SHOW   \n",
       "974   ts283078  The Greatest Demon Lord Is Reborn as a Typical...  SHOW   \n",
       "1031  ts317269                   In the Heart of Kunoichi Tsubaki  SHOW   \n",
       "\n",
       "                                            description  release_year  \\\n",
       "965   Master spy Twilight is the best at what he doe...          2022   \n",
       "432   With Majin Boo defeated half-a-year prior, pea...          2015   \n",
       "12    Dragon Ball Z is a Japanese animated televisio...          1989   \n",
       "86    In another world, ninja are the ultimate power...          2002   \n",
       "84    Naruto Shippuuden is the continuation of the o...          2007   \n",
       "816   Yuji Itadori is a boy with tremendous physical...          2020   \n",
       "42    Makunouchi Ippo is an ordinary high school stu...          2000   \n",
       "87    For as long as he can remember, Ichigo Kurosak...          2004   \n",
       "974   In his past life, he was known as Demon Lord V...          2022   \n",
       "1031  The isolationist Akane Clan, composed of an al...          2022   \n",
       "\n",
       "     age_certification  runtime  \\\n",
       "965              TV-14       24   \n",
       "432              TV-14       23   \n",
       "12               TV-PG       24   \n",
       "86               TV-PG       23   \n",
       "84               TV-14       23   \n",
       "816              TV-MA       24   \n",
       "42               TV-PG       24   \n",
       "87               TV-14       24   \n",
       "974              TV-14       24   \n",
       "1031             TV-14       24   \n",
       "\n",
       "                                                 genres production_countries  \\\n",
       "965   ['action', 'comedy', 'drama', 'thriller', 'ani...               ['JP']   \n",
       "432   ['action', 'scifi', 'comedy', 'animation', 'th...               ['JP']   \n",
       "12    ['scifi', 'action', 'animation', 'comedy', 'fa...               ['JP']   \n",
       "86    ['scifi', 'comedy', 'animation', 'action', 'fa...               ['JP']   \n",
       "84    ['scifi', 'action', 'animation', 'comedy', 'dr...               ['JP']   \n",
       "816   ['scifi', 'action', 'fantasy', 'thriller', 'an...               ['JP']   \n",
       "42    ['comedy', 'drama', 'action', 'animation', 'sp...               ['JP']   \n",
       "87    ['scifi', 'action', 'animation', 'fantasy', 't...               ['JP']   \n",
       "974   ['scifi', 'animation', 'action', 'fantasy', 'r...               ['JP']   \n",
       "1031                                      ['animation']               ['JP']   \n",
       "\n",
       "      seasons     imdb_id  imdb_score  imdb_votes  tmdb_popularity  tmdb_score  \n",
       "965       1.0  tt13706018         9.0      5847.0         1199.380         8.8  \n",
       "432       5.0   tt4644488         8.4     28567.0          423.650         8.2  \n",
       "12       16.0   tt0121220         8.8    125554.0          389.990         8.2  \n",
       "86        6.0   tt0409591         8.4     93980.0          362.730         8.4  \n",
       "84       24.0   tt0988824         8.7    115863.0          350.688         8.6  \n",
       "816       2.0  tt12343534         8.6     48949.0          303.199         8.5  \n",
       "42        3.0   tt0481256         8.8      6566.0          213.728         8.7  \n",
       "87       16.0   tt0434665         8.2     51742.0          211.796         8.4  \n",
       "974       1.0  tt15447890         7.0       161.0          178.024         6.7  \n",
       "1031      1.0         NaN         NaN         NaN          171.853         4.3  "
      ]
     },
     "execution_count": 16,
     "metadata": {},
     "output_type": "execute_result"
    }
   ],
   "source": [
    "# top 10 popular shows\n",
    "\n",
    "popular_shows = ti_df.sort_values(\"tmdb_popularity\", ascending = False)\n",
    "popular_shows.head(10)"
   ]
  },
  {
   "cell_type": "code",
   "execution_count": 25,
   "id": "44598bfe",
   "metadata": {},
   "outputs": [
    {
     "data": {
      "image/png": "[encoded data removed]",
      "text/plain": [
       "<Figure size 864x576 with 1 Axes>"
      ]
     },
     "metadata": {
      "needs_background": "light"
     },
     "output_type": "display_data"
    }
   ],
   "source": [
    "# correlation between imdb and tmdb rating\n",
    "\n",
    "plt.figure(figsize=[12,8])\n",
    "sns.regplot(data = ti_df, y = \"imdb_score\", x = \"tmdb_score\").set(title= \"Correlation Between IMDB and TMDB scoring\")\n",
    "plt.show()"
   ]
  },
  {
   "cell_type": "markdown",
   "id": "99a6683a",
   "metadata": {},
   "source": [
    "### Imdb rating is in direct harmony with tmdb scores"
   ]
  },
  {
   "cell_type": "code",
   "execution_count": 38,
   "id": "eae66f8a",
   "metadata": {},
   "outputs": [
    {
     "data": {
      "image/png": "[encoded data removed]",
      "text/plain": [
       "<Figure size 864x576 with 1 Axes>"
      ]
     },
     "metadata": {
      "needs_background": "light"
     },
     "output_type": "display_data"
    }
   ],
   "source": [
    "# let's check if there is any relation between year of release of show and popularity\n",
    "\n",
    "ti_df_1 = ti_df.query(\"tmdb_popularity<222\", inplace = False)\n",
    "plt.figure(figsize=[12,8])\n",
    "sns.regplot(data = ti_df_1, y = \"tmdb_popularity\", x = \"release_year\", color = 'cyan').set(title= \"Relation between year of release of show and popularity\")\n",
    "plt.show()\n"
   ]
  },
  {
   "cell_type": "markdown",
   "id": "1b44ec8f",
   "metadata": {},
   "source": [
    "### the shows get more popular by the year of release, recent shows are more popular as we see trend line in diagram"
   ]
  },
  {
   "cell_type": "code",
   "execution_count": 90,
   "id": "412fcffe",
   "metadata": {},
   "outputs": [
    {
     "data": {
      "image/png": "[encoded data removed]",
      "text/plain": [
       "<Figure size 864x360 with 1 Axes>"
      ]
     },
     "metadata": {},
     "output_type": "display_data"
    }
   ],
   "source": [
    "#Number of released shows by year\n",
    "sns.set_style(style='darkgrid')\n",
    "sns.displot(data = ti_df, x = \"release_year\", color = 'm', kind='hist', aspect=2.4, bins=60).set(title= \"Number of released shows by year\")\n",
    "plt.show()"
   ]
  },
  {
   "cell_type": "markdown",
   "id": "dc2379a2",
   "metadata": {},
   "source": [
    "### Most of the shows are released in last one decade"
   ]
  },
  {
   "cell_type": "code",
   "execution_count": 62,
   "id": "da0e7581",
   "metadata": {
    "scrolled": true
   },
   "outputs": [
    {
     "name": "stdout",
     "output_type": "stream",
     "text": [
      "Average IMDB scores\n"
     ]
    },
    {
     "data": {
      "text/plain": [
       "6.830650496141119"
      ]
     },
     "execution_count": 62,
     "metadata": {},
     "output_type": "execute_result"
    }
   ],
   "source": [
    "#average rating of shows by imdb scores\n",
    "print(\"Average IMDB scores\")\n",
    "np.mean(ti_df.imdb_score)"
   ]
  },
  {
   "cell_type": "code",
   "execution_count": 95,
   "id": "049f9311",
   "metadata": {},
   "outputs": [
    {
     "data": {
      "image/png": "[encoded data removed]",
      "text/plain": [
       "<Figure size 396x360 with 1 Axes>"
      ]
     },
     "metadata": {},
     "output_type": "display_data"
    }
   ],
   "source": [
    "sns.displot(data = ti_df, x = \"imdb_score\", color = 'violet', kind='hist', aspect=1.1, bins=10).set(title= \"average rating of shows by imdb scores\")\n",
    "plt.show()"
   ]
  },
  {
   "cell_type": "code",
   "execution_count": 24,
   "id": "a81d72e1",
   "metadata": {},
   "outputs": [
    {
     "name": "stdout",
     "output_type": "stream",
     "text": [
      "Ravi Kumar's code is 001\n"
     ]
    }
   ],
   "source": [
    "input_str = \"Kumar_Ravi_001\"\n",
    "lastname, firstname, code = input_str.split('_')\n",
    "\n",
    "print (firstname + \" \"+lastname+\"'s code is \"+ code)"
   ]
  },
  {
   "cell_type": "code",
   "execution_count": 32,
   "id": "04cf96ce",
   "metadata": {},
   "outputs": [
    {
     "data": {
      "text/plain": [
       "(11, [222, 33], 44, 55)"
      ]
     },
     "execution_count": 32,
     "metadata": {},
     "output_type": "execute_result"
    }
   ],
   "source": [
    "tuple1 = (11,[22,33],44,55)\n",
    "tuple1[1][0] = 222\n",
    "\n",
    "tuple1"
   ]
  },
  {
   "cell_type": "code",
   "execution_count": 34,
   "id": "508192cf",
   "metadata": {},
   "outputs": [],
   "source": [
    "list7 = [1,2,(3,4),5]"
   ]
  },
  {
   "cell_type": "code",
   "execution_count": 40,
   "id": "f8ebeb57",
   "metadata": {},
   "outputs": [
    {
     "data": {
      "text/plain": [
       "[1, 2, (3, 4), 7]"
      ]
     },
     "execution_count": 40,
     "metadata": {},
     "output_type": "execute_result"
    }
   ],
   "source": [
    "list7[3] = 7\n",
    "list7"
   ]
  },
  {
   "cell_type": "code",
   "execution_count": 45,
   "id": "8f4bb716",
   "metadata": {},
   "outputs": [
    {
     "name": "stdout",
     "output_type": "stream",
     "text": [
      "1\n",
      "67\n"
     ]
    }
   ],
   "source": [
    "list3 = [11,20,34,1,67]\n",
    "print(min(list3))\n",
    "print(max(list3))"
   ]
  },
  {
   "cell_type": "code",
   "execution_count": 54,
   "id": "92a32d11",
   "metadata": {},
   "outputs": [
    {
     "name": "stdout",
     "output_type": "stream",
     "text": [
      "60\n"
     ]
    }
   ],
   "source": [
    "from functools import reduce\n",
    "\n",
    "a= [10,20,30,40,60]\n",
    "\n",
    "result = reduce(lambda n,m: max(m,n), a)\n",
    "print (result)"
   ]
  }
 ],
 "metadata": {
  "kernelspec": {
   "display_name": "Python 3 (ipykernel)",
   "language": "python",
   "name": "python3"
  },
  "language_info": {
   "codemirror_mode": {
    "name": "ipython",
    "version": 3
   },
   "file_extension": ".py",
   "mimetype": "text/x-python",
   "name": "python",
   "nbconvert_exporter": "python",
   "pygments_lexer": "ipython3",
   "version": "3.9.12"
  }
 },
 "nbformat": 4,
 "nbformat_minor": 5
}
